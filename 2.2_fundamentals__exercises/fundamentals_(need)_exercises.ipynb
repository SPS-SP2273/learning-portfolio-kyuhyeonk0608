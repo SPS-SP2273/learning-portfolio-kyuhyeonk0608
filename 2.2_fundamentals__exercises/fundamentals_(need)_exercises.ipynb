{
 "cells": [
  {
   "attachments": {},
   "cell_type": "markdown",
   "id": "123456",
   "metadata": {},
   "source": [
    "<div style=\"text-align:left;font-size:2em\"><span style=\"font-weight:bolder;font-size:1.25em\">SP2273 | Learning Portfolio</span><br><br><span style=\"font-weight:bold;color:darkred\">Fundamentals (Need) Exercises</span></div>"
   ]
  },
  {
   "cell_type": "markdown",
   "id": "7d8865d0",
   "metadata": {},
   "source": [
    "## 1. Exercise 1 (Total recall?)"
   ]
  },
  {
   "cell_type": "markdown",
   "id": "d1a8eeee",
   "metadata": {},
   "source": [
    "1. Functions\n",
    "2. Comments\n",
    "3. Packages?\n",
    "4. Brackets\n",
    "5. Indentations\n",
    "6. *= vs ==*\n",
    "7. *variables*"
   ]
  },
  {
   "cell_type": "markdown",
   "id": "5d9e096d",
   "metadata": {},
   "source": [
    "## 2. Exercise 2 (Debug Me)"
   ]
  },
  {
   "cell_type": "code",
   "execution_count": 4,
   "id": "c7ba053e",
   "metadata": {},
   "outputs": [],
   "source": [
    "import numpy as np"
   ]
  },
  {
   "cell_type": "code",
   "execution_count": 7,
   "id": "1fcbf38f",
   "metadata": {},
   "outputs": [
    {
     "name": "stdout",
     "output_type": "stream",
     "text": [
      "3 4 5.0\n"
     ]
    }
   ],
   "source": [
    "x, y = 3, 4\n",
    "z = np.sqrt(x**2 + y**2)\n",
    "print(x, y, z)"
   ]
  },
  {
   "cell_type": "markdown",
   "id": "9e2dc3da",
   "metadata": {},
   "source": [
    "## 3. Exercise 3 (In your own words)"
   ]
  },
  {
   "cell_type": "markdown",
   "id": "015579b1",
   "metadata": {},
   "source": [
    "| #    |  Term  | Description |\n",
    "| :--- | :--: | ---: |\n",
    "| 2    |  Arguments |  A command that executes a given task     |\n",
    "| 3    |  Comments |     plain-english annotations on code that describes what the code does.     |\n",
    "| 4    |  Indentations  |  Python's way of organizing code into logical blocks such as \"if\" statements  |\n",
    "| 5    |  Packages  |  Imported augmentations to Python that enable the user to do various tasks that cannot be done with the core set of Python functions.   |\n",
    "| 6    | . |    A piece of notation commonly used to indicate ownership     |\n",
    "| 7    |  :  |     A piece of notation used to mark the beginning of a code block that warrants indentation such as \"if\", \"else\" etc    |\n",
    "| 8    |  []  |     Notation used to establish lists     |\n",
    "| 9   | [[],[]] |      notation used to establish a list containing a list       |\n",
    "| 10    |  {}  |       notation used to establish a dictionary       |"
   ]
  },
  {
   "cell_type": "markdown",
   "id": "662aa023",
   "metadata": {},
   "source": [
    "## 4. Exercise 4 (More than one way to divide)"
   ]
  },
  {
   "cell_type": "code",
   "execution_count": null,
   "id": "a4e111b4",
   "metadata": {},
   "outputs": [
    {
     "name": "stdout",
     "output_type": "stream",
     "text": [
      "2.5\n"
     ]
    }
   ],
   "source": [
    "x = 5/2     # x/y gives the value of x divided by y\n",
    "print(x)"
   ]
  },
  {
   "cell_type": "code",
   "execution_count": null,
   "id": "13d65159",
   "metadata": {},
   "outputs": [
    {
     "name": "stdout",
     "output_type": "stream",
     "text": [
      "2\n"
     ]
    }
   ],
   "source": [
    "x = 5//2    # x//y Gives the value of x divided by y, rounded to the nearest integer\n",
    "print(x)"
   ]
  },
  {
   "cell_type": "code",
   "execution_count": 33,
   "id": "ab0496d1",
   "metadata": {},
   "outputs": [
    {
     "name": "stdout",
     "output_type": "stream",
     "text": [
      "1\n"
     ]
    }
   ],
   "source": [
    "x = 5%2     # x%y gives the remainder of x divided by y\n",
    "print(x)"
   ]
  },
  {
   "cell_type": "markdown",
   "id": "c20353e9",
   "metadata": {},
   "source": [
    "Done!"
   ]
  }
 ],
 "metadata": {
  "kernelspec": {
   "display_name": "base",
   "language": "python",
   "name": "python3"
  },
  "language_info": {
   "codemirror_mode": {
    "name": "ipython",
    "version": 3
   },
   "file_extension": ".py",
   "mimetype": "text/x-python",
   "name": "python",
   "nbconvert_exporter": "python",
   "pygments_lexer": "ipython3",
   "version": "3.13.5"
  },
  "toc": {
   "base_numbering": 1,
   "nav_menu": {},
   "number_sections": true,
   "sideBar": true,
   "skip_h1_title": false,
   "title_cell": "Table of Contents",
   "title_sidebar": "Contents",
   "toc_cell": false,
   "toc_position": {},
   "toc_section_display": true,
   "toc_window_display": false
  }
 },
 "nbformat": 4,
 "nbformat_minor": 5
}
