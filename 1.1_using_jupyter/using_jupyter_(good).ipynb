{
 "cells": [
  {
   "attachments": {},
   "cell_type": "markdown",
   "id": "123456",
   "metadata": {},
   "source": [
    "<div style=\"text-align:left;font-size:2em\"><span style=\"font-weight:bolder;font-size:1.25em\">SP2273 | Learning Portfolio</span><br><br><span style=\"font-weight:bold;color:darkred\">Using Jupyter (Good)</span></div>"
   ]
  },
  {
   "attachments": {},
   "cell_type": "markdown",
   "id": "f6b8aa58",
   "metadata": {},
   "source": [
    "# What to expect in this chapter"
   ]
  },
  {
   "attachments": {},
   "cell_type": "markdown",
   "id": "b6567d27",
   "metadata": {},
   "source": [
    "# 1 Some tips and tricks"
   ]
  },
  {
   "cell_type": "code",
   "execution_count": null,
   "id": "d1d92f28-4eff-4329-89c0-dbdf8834dc05",
   "metadata": {},
   "outputs": [],
   "source": []
  },
  {
   "cell_type": "code",
   "execution_count": null,
   "id": "0e3df05c-9f6a-43ab-9279-9afd04a4f6f2",
   "metadata": {},
   "outputs": [
    {
     "name": "stdout",
     "output_type": "stream",
     "text": [
      "sir a plane has struck the second tower\n"
     ]
    }
   ],
   "source": [
    "print (\"sir a plane has struck the second tower\")"
   ]
  },
  {
   "attachments": {},
   "cell_type": "markdown",
   "id": "68bae717",
   "metadata": {},
   "source": [
    "## 1.1 Keyboard Shortcuts"
   ]
  },
  {
   "cell_type": "code",
   "execution_count": 12,
   "id": "19d895b8-4229-4a73-9837-168431e00d67",
   "metadata": {},
   "outputs": [
    {
     "name": "stdout",
     "output_type": "stream",
     "text": [
      "# packages in environment at /opt/miniconda3:\n",
      "#\n",
      "# Name                           Version          Build                 Channel\n",
      "anaconda-anon-usage              0.7.1            py313hd6b623d_100\n",
      "annotated-types                  0.6.0            py313hca03da5_0\n",
      "anyio                            4.10.0           pyhe01879c_0          conda-forge\n",
      "appnope                          0.1.4            pyhd8ed1ab_1          conda-forge\n",
      "archspec                         0.2.3            pyhd3eb1b0_0\n",
      "argon2-cffi                      25.1.0           pyhd8ed1ab_0          conda-forge\n",
      "argon2-cffi-bindings             25.1.0           py313hcdf3177_0       conda-forge\n",
      "arrow                            1.3.0            pyhd8ed1ab_1          conda-forge\n",
      "asttokens                        3.0.0            pyhd8ed1ab_1          conda-forge\n",
      "async-lru                        2.0.5            pyh29332c3_0          conda-forge\n",
      "attrs                            25.3.0           pyh71513ae_0          conda-forge\n",
      "babel                            2.17.0           pyhd8ed1ab_0          conda-forge\n",
      "beautifulsoup4                   4.13.4           pyha770c72_0          conda-forge\n",
      "bleach                           6.2.0            pyh29332c3_4          conda-forge\n",
      "bleach-with-css                  6.2.0            h82add2a_4            conda-forge\n",
      "boltons                          25.0.0           py313hca03da5_0\n",
      "brotlicffi                       1.0.9.2          py313h313beb8_1\n",
      "bzip2                            1.0.8            h80987f9_6\n",
      "c-ares                           1.19.1           h80987f9_0\n",
      "ca-certificates                  2025.8.3         hbd8a1cb_0            conda-forge\n",
      "cached-property                  1.5.2            hd8ed1ab_1            conda-forge\n",
      "cached_property                  1.5.2            pyha770c72_1          conda-forge\n",
      "certifi                          2025.8.3         py313hca03da5_0\n",
      "cffi                             1.17.1           py313h3eb5a62_1\n",
      "charset-normalizer               3.3.2            pyhd3eb1b0_0\n",
      "comm                             0.2.3            pyhe01879c_0          conda-forge\n",
      "conda                            25.7.0           py313hca03da5_0\n",
      "conda-anaconda-telemetry         0.2.0            py313hca03da5_1\n",
      "conda-anaconda-tos               0.2.1            py313hca03da5_0\n",
      "conda-content-trust              0.2.0            py313hca03da5_1\n",
      "conda-libmamba-solver            25.4.0           pyhd3eb1b0_0\n",
      "conda-package-handling           2.4.0            py313hca03da5_0\n",
      "conda-package-streaming          0.12.0           py313hca03da5_0\n",
      "cpp-expected                     1.1.0            h48ca7d4_0\n",
      "cryptography                     45.0.3           py313h47897c2_0\n",
      "debugpy                          1.8.7            py313h3579c5c_0       conda-forge\n",
      "decorator                        5.2.1            pyhd8ed1ab_0          conda-forge\n",
      "defusedxml                       0.7.1            pyhd8ed1ab_0          conda-forge\n",
      "distro                           1.9.0            py313hca03da5_0\n",
      "exceptiongroup                   1.3.0            pyhd8ed1ab_0          conda-forge\n",
      "executing                        2.2.0            pyhd8ed1ab_0          conda-forge\n",
      "expat                            2.7.1            h313beb8_0\n",
      "fmt                              9.1.0            h48ca7d4_1\n",
      "fqdn                             1.5.1            pyhd8ed1ab_1          conda-forge\n",
      "frozendict                       2.4.2            py313hca03da5_0\n",
      "h11                              0.16.0           pyhd8ed1ab_0          conda-forge\n",
      "h2                               4.2.0            pyhd8ed1ab_0          conda-forge\n",
      "hpack                            4.1.0            pyhd8ed1ab_0          conda-forge\n",
      "httpcore                         1.0.9            pyh29332c3_0          conda-forge\n",
      "httpx                            0.28.1           pyhd8ed1ab_0          conda-forge\n",
      "hyperframe                       6.1.0            pyhd8ed1ab_0          conda-forge\n",
      "icu                              73.1             h313beb8_0\n",
      "idna                             3.7              py313hca03da5_0\n",
      "importlib-metadata               8.7.0            pyhe01879c_1          conda-forge\n",
      "ipykernel                        6.30.1           pyh92f572d_0          conda-forge\n",
      "ipython                          9.4.0            pyhfa0c392_0          conda-forge\n",
      "ipython_pygments_lexers          1.1.1            pyhd8ed1ab_0          conda-forge\n",
      "ipywidgets                       8.1.7            pyhd8ed1ab_0          conda-forge\n",
      "isoduration                      20.11.0          pyhd8ed1ab_1          conda-forge\n",
      "jedi                             0.19.2           pyhd8ed1ab_1          conda-forge\n",
      "jinja2                           3.1.6            pyhd8ed1ab_0          conda-forge\n",
      "json5                            0.12.0           pyhd8ed1ab_0          conda-forge\n",
      "jsonpatch                        1.33             py313hca03da5_1\n",
      "jsonpointer                      2.1              pyhd3eb1b0_0\n",
      "jsonschema                       4.25.0           pyhe01879c_0          conda-forge\n",
      "jsonschema-specifications        2025.4.1         pyh29332c3_0          conda-forge\n",
      "jsonschema-with-format-nongpl    4.25.0           he01879c_0            conda-forge\n",
      "jupyter                          1.1.1            pyhd8ed1ab_1          conda-forge\n",
      "jupyter-lsp                      2.2.6            pyhe01879c_0          conda-forge\n",
      "jupyter_client                   8.6.3            pyhd8ed1ab_1          conda-forge\n",
      "jupyter_console                  6.6.3            pyhd8ed1ab_1          conda-forge\n",
      "jupyter_core                     5.8.1            pyh31011fe_0          conda-forge\n",
      "jupyter_events                   0.12.0           pyh29332c3_0          conda-forge\n",
      "jupyter_server                   2.16.0           pyhe01879c_0          conda-forge\n",
      "jupyter_server_terminals         0.5.3            pyhd8ed1ab_1          conda-forge\n",
      "jupyterlab                       4.4.5            pyhd8ed1ab_0          conda-forge\n",
      "jupyterlab_pygments              0.3.0            pyhd8ed1ab_2          conda-forge\n",
      "jupyterlab_server                2.27.3           pyhd8ed1ab_1          conda-forge\n",
      "jupyterlab_widgets               3.0.15           pyhd8ed1ab_0          conda-forge\n",
      "krb5                             1.21.3           h7414a1f_1\n",
      "lark                             1.2.2            pyhd8ed1ab_1          conda-forge\n",
      "libarchive                       3.7.7            h8f13d7a_0\n",
      "libblas                          3.9.0            31_h10e41b3_openblas  conda-forge\n",
      "libcblas                         3.9.0            31_hb3479ef_openblas  conda-forge\n",
      "libcurl                          8.14.1           hb586df2_0\n",
      "libcxx                           17.0.6           he5c5206_4\n",
      "libedit                          3.1.20230828     h80987f9_0\n",
      "libev                            4.33             h1a28f6b_1\n",
      "libffi                           3.4.4            hca03da5_1\n",
      "libgfortran                      5.0.0            14_2_0_h6c33f7e_103   conda-forge\n",
      "libgfortran5                     14.2.0           h6c33f7e_103          conda-forge\n",
      "libiconv                         1.16             h80987f9_3\n",
      "liblapack                        3.9.0            31_hc9a63f6_openblas  conda-forge\n",
      "libmamba                         2.0.5            h15e39b3_1\n",
      "libmambapy                       2.0.5            py313h48ca7d4_1\n",
      "libmpdec                         4.0.0            h80987f9_0\n",
      "libnghttp2                       1.57.0           h62f6fdd_0\n",
      "libopenblas                      0.3.29           hea593b9_0\n",
      "libsodium                        1.0.20           h99b78c6_0            conda-forge\n",
      "libsolv                          0.7.30           h514c7bf_1\n",
      "libssh2                          1.11.1           h3e2b118_0\n",
      "libxml2                          2.13.8           h0b34f26_0\n",
      "llvm-openmp                      17.0.6           hcd81f8e_0            conda-forge\n",
      "lz4-c                            1.9.4            h313beb8_1\n",
      "markdown-it-py                   2.2.0            py313hca03da5_1\n",
      "markupsafe                       3.0.2            py313ha9b7d5b_1       conda-forge\n",
      "matplotlib-inline                0.1.7            pyhd8ed1ab_1          conda-forge\n",
      "mdurl                            0.1.0            py313hca03da5_0\n",
      "menuinst                         2.3.0            py313hca03da5_0\n",
      "mistune                          3.1.3            pyh29332c3_0          conda-forge\n",
      "nbclient                         0.10.2           pyhd8ed1ab_0          conda-forge\n",
      "nbconvert-core                   7.16.6           pyh29332c3_0          conda-forge\n",
      "nbformat                         5.10.4           pyhd8ed1ab_1          conda-forge\n",
      "ncurses                          6.4              h313beb8_0\n",
      "nest-asyncio                     1.6.0            pyhd8ed1ab_1          conda-forge\n",
      "nlohmann_json                    3.11.2           h313beb8_0\n",
      "notebook                         7.4.5            pyhd8ed1ab_0          conda-forge\n",
      "notebook-shim                    0.2.4            pyhd8ed1ab_1          conda-forge\n",
      "numpy                            2.1.2            py313hab0c69d_0       conda-forge\n",
      "openssl                          3.5.2            he92f556_0            conda-forge\n",
      "overrides                        7.7.0            pyhd8ed1ab_1          conda-forge\n",
      "packaging                        24.2             py313hca03da5_0\n",
      "pandocfilters                    1.5.0            pyhd8ed1ab_0          conda-forge\n",
      "parso                            0.8.4            pyhd8ed1ab_1          conda-forge\n",
      "pcre2                            10.42            hb066dcc_1\n",
      "pexpect                          4.9.0            pyhd8ed1ab_1          conda-forge\n",
      "pickleshare                      0.7.5            pyhd8ed1ab_1004       conda-forge\n",
      "pip                              25.1             pyhc872135_2\n",
      "platformdirs                     4.3.7            py313hca03da5_0\n",
      "pluggy                           1.5.0            py313hca03da5_0\n",
      "prometheus_client                0.22.1           pyhd8ed1ab_0          conda-forge\n",
      "prompt-toolkit                   3.0.51           pyha770c72_0          conda-forge\n",
      "prompt_toolkit                   3.0.51           hd8ed1ab_0            conda-forge\n",
      "psutil                           7.0.0            py313h90d716c_0       conda-forge\n",
      "ptyprocess                       0.7.0            pyhd8ed1ab_1          conda-forge\n",
      "pure_eval                        0.2.3            pyhd8ed1ab_1          conda-forge\n",
      "pybind11-abi                     5                hd3eb1b0_0\n",
      "pycosat                          0.6.6            py313h80987f9_2\n",
      "pycparser                        2.21             pyhd3eb1b0_0\n",
      "pydantic                         2.11.7           py313hca03da5_0\n",
      "pydantic-core                    2.33.2           py313h5e3a92f_0\n",
      "pygments                         2.19.1           py313hca03da5_0\n",
      "pyobjc-core                      11.0             py313hb6afeec_0       conda-forge\n",
      "pyobjc-framework-cocoa           11.0             py313hb6afeec_0       conda-forge\n",
      "pysocks                          1.7.1            py313hca03da5_0\n",
      "python                           3.13.5           h2eb94d5_100_cp313\n",
      "python-dateutil                  2.9.0.post0      pyhe01879c_2          conda-forge\n",
      "python-fastjsonschema            2.21.1           pyhd8ed1ab_0          conda-forge\n",
      "python-json-logger               2.0.7            pyhd8ed1ab_0          conda-forge\n",
      "python.app                       3                py313h80987f9_2\n",
      "python_abi                       3.13             0_cp313\n",
      "pytz                             2025.2           pyhd8ed1ab_0          conda-forge\n",
      "pyyaml                           6.0.2            py313ha9b7d5b_2       conda-forge\n",
      "pyzmq                            26.2.0           py313h0e8b002_3       conda-forge\n",
      "readline                         8.2              h1a28f6b_0\n",
      "referencing                      0.36.2           pyh29332c3_0          conda-forge\n",
      "reproc                           14.2.4           h313beb8_2\n",
      "reproc-cpp                       14.2.4           h313beb8_2\n",
      "requests                         2.32.4           py313hca03da5_0\n",
      "rfc3339-validator                0.1.4            pyhd8ed1ab_1          conda-forge\n",
      "rfc3986-validator                0.1.1            pyh9f0ad1d_0          conda-forge\n",
      "rfc3987-syntax                   1.1.0            pyhe01879c_1          conda-forge\n",
      "rich                             13.9.4           py313hca03da5_0\n",
      "rpds-py                          0.27.0           py313h80e0809_0       conda-forge\n",
      "ruamel.yaml                      0.18.10          py313h80987f9_0\n",
      "ruamel.yaml.clib                 0.2.12           py313h80987f9_0\n",
      "send2trash                       1.8.3            pyh31c8845_1          conda-forge\n",
      "setuptools                       78.1.1           py313hca03da5_0\n",
      "simdjson                         3.10.1           h48ca7d4_0\n",
      "six                              1.17.0           pyhe01879c_1          conda-forge\n",
      "sniffio                          1.3.1            pyhd8ed1ab_1          conda-forge\n",
      "soupsieve                        2.7              pyhd8ed1ab_0          conda-forge\n",
      "spdlog                           1.11.0           h48ca7d4_0\n",
      "sqlite                           3.50.2           h79febb2_1\n",
      "stack_data                       0.6.3            pyhd8ed1ab_1          conda-forge\n",
      "terminado                        0.18.1           pyh31c8845_0          conda-forge\n",
      "tinycss2                         1.4.0            pyhd8ed1ab_0          conda-forge\n",
      "tk                               8.6.14           h6ba3021_1\n",
      "tomli                            2.2.1            pyhe01879c_2          conda-forge\n",
      "tornado                          6.5.2            py313hcdf3177_0       conda-forge\n",
      "tqdm                             4.67.1           py313h7eb115d_0\n",
      "traitlets                        5.14.3           pyhd8ed1ab_1          conda-forge\n",
      "truststore                       0.10.0           py313hca03da5_0\n",
      "types-python-dateutil            2.9.0.20250809   pyhd8ed1ab_0          conda-forge\n",
      "typing-extensions                4.12.2           py313hca03da5_0\n",
      "typing-inspection                0.4.0            py313hca03da5_0\n",
      "typing_extensions                4.12.2           py313hca03da5_0\n",
      "typing_utils                     0.1.0            pyhd8ed1ab_1          conda-forge\n",
      "tzdata                           2025b            h04d1e81_0\n",
      "uri-template                     1.3.0            pyhd8ed1ab_1          conda-forge\n",
      "urllib3                          2.5.0            py313hca03da5_0\n",
      "wcwidth                          0.2.13           pyhd8ed1ab_1          conda-forge\n",
      "webcolors                        24.11.1          pyhd8ed1ab_0          conda-forge\n",
      "webencodings                     0.5.1            pyhd8ed1ab_3          conda-forge\n",
      "websocket-client                 1.8.0            pyhd8ed1ab_1          conda-forge\n",
      "wheel                            0.45.1           py313hca03da5_0\n",
      "widgetsnbextension               4.0.14           pyhd8ed1ab_0          conda-forge\n",
      "xz                               5.6.4            h80987f9_1\n",
      "yaml                             0.2.5            h925e9cb_3            conda-forge\n",
      "yaml-cpp                         0.8.0            h313beb8_1\n",
      "zeromq                           4.3.5            h9f5b81c_6            conda-forge\n",
      "zipp                             3.23.0           pyhd8ed1ab_0          conda-forge\n",
      "zlib                             1.2.13           h18a0788_1\n",
      "zstandard                        0.23.0           py313h1a4646a_1\n",
      "zstd                             1.5.6            hfb09047_0\n"
     ]
    }
   ],
   "source": [
    "!conda list"
   ]
  },
  {
   "attachments": {},
   "cell_type": "markdown",
   "id": "2664ad1e",
   "metadata": {},
   "source": [
    "### Things to note"
   ]
  },
  {
   "cell_type": "code",
   "execution_count": null,
   "id": "8fc63910",
   "metadata": {},
   "outputs": [],
   "source": [
    "\n",
    "# Your code here\n"
   ]
  },
  {
   "attachments": {},
   "cell_type": "markdown",
   "id": "26a6487d",
   "metadata": {},
   "source": [
    "## 1.2 Shell commands"
   ]
  },
  {
   "attachments": {},
   "cell_type": "markdown",
   "id": "4c42aa6c",
   "metadata": {},
   "source": [
    "# 2 Install Notebook 7"
   ]
  },
  {
   "attachments": {},
   "cell_type": "markdown",
   "id": "fa033b99",
   "metadata": {},
   "source": [
    "# Jupyter Extensions"
   ]
  },
  {
   "attachments": {},
   "cell_type": "markdown",
   "id": "b1e4b68c",
   "metadata": {},
   "source": [
    "## Installing the extensions"
   ]
  },
  {
   "attachments": {},
   "cell_type": "markdown",
   "id": "d99c610f",
   "metadata": {},
   "source": [
    "## Enabling the extensions"
   ]
  },
  {
   "attachments": {},
   "cell_type": "markdown",
   "id": "dbdb9fd7",
   "metadata": {},
   "source": [
    "# 3 Shell Magic"
   ]
  },
  {
   "attachments": {},
   "cell_type": "markdown",
   "id": "93bb8889",
   "metadata": {},
   "source": [
    "# 4 The Kernel"
   ]
  }
 ],
 "metadata": {
  "kernelspec": {
   "display_name": "Python 3 (ipykernel)",
   "language": "python",
   "name": "python3"
  },
  "language_info": {
   "codemirror_mode": {
    "name": "ipython",
    "version": 3
   },
   "file_extension": ".py",
   "mimetype": "text/x-python",
   "name": "python",
   "nbconvert_exporter": "python",
   "pygments_lexer": "ipython3",
   "version": "3.13.5"
  },
  "toc": {
   "base_numbering": 1,
   "nav_menu": {},
   "number_sections": true,
   "sideBar": true,
   "skip_h1_title": false,
   "title_cell": "Table of Contents",
   "title_sidebar": "Contents",
   "toc_cell": false,
   "toc_position": {},
   "toc_section_display": true,
   "toc_window_display": false
  },
  "vscode": {
   "interpreter": {
    "hash": "31f2aee4e71d21fbe5cf8b01ff0e069b9275f58929596ceb00d14d90e3e16cd6"
   }
  }
 },
 "nbformat": 4,
 "nbformat_minor": 5
}
