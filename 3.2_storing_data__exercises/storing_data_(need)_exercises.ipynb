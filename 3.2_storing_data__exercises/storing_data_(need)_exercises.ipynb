{
 "cells": [
  {
   "attachments": {},
   "cell_type": "markdown",
   "id": "123456",
   "metadata": {},
   "source": [
    "<div style=\"text-align:left;font-size:2em\"><span style=\"font-weight:bolder;font-size:1.25em\">SP2273 | Learning Portfolio</span><br><br><span style=\"font-weight:bold;color:darkred\">Storing Data (Need) Exercises</span></div>"
   ]
  },
  {
   "cell_type": "markdown",
   "id": "4c069304",
   "metadata": {},
   "source": [
    "## 1. Exercise 1 (Total recall?)"
   ]
  },
  {
   "cell_type": "markdown",
   "id": "6a72a810",
   "metadata": {},
   "source": [
    "1. Two similarities between lists and arrays.\n",
    "- First, they both use zero-index counting, meaning that I need to count starting from 0 when identifying an element in the list/array by its address. Secondly, the order matters.\n",
    "\n",
    "2. Two differences between lists and arrays.\n",
    "- First, arrays only accept text when storing data. Second, certain arithmetic operations on lists applies to the list as a whole, while an operation on an array applies on each element individually.\n",
    "\n",
    "3. What is a dictionary?\n",
    "- Where each element is linked to a key that can be used to access the element in the dictionary."
   ]
  },
  {
   "cell_type": "markdown",
   "id": "0fc30b6f",
   "metadata": {},
   "source": [
    "## 2. Exercise 2 (Indexing)"
   ]
  },
  {
   "cell_type": "code",
   "execution_count": 2,
   "id": "0c55a827",
   "metadata": {},
   "outputs": [
    {
     "name": "stdout",
     "output_type": "stream",
     "text": [
      "a1\n",
      "c3\n",
      "e5\n",
      "g7\n",
      "i9\n"
     ]
    }
   ],
   "source": [
    "py_list = [\"a1\", \"b2\", \"c3\", \"d4\", \"e5\", \"f6\", \"g7\", \"h8\", \"i9\", \"j10\"]\n",
    "print(py_list[0])\n",
    "print(py_list[2])\n",
    "print(py_list[4])\n",
    "print(py_list[6])\n",
    "print(py_list[8])\n"
   ]
  },
  {
   "cell_type": "markdown",
   "id": "a9efa2e1",
   "metadata": {},
   "source": [
    "## 3. Exercise 3 (Index Again)"
   ]
  },
  {
   "cell_type": "code",
   "execution_count": 3,
   "id": "be750222",
   "metadata": {},
   "outputs": [],
   "source": [
    "elements = ['Hydrogen',\n",
    "            'Helium', 'Lithium',\n",
    "            'Beryllium', 'Boron', 'Carbon',\n",
    "            'Nitrogen', 'Oxygen',\n",
    "            'Fluorine',\n",
    "            'Neon']"
   ]
  },
  {
   "cell_type": "code",
   "execution_count": 8,
   "id": "5e062a00",
   "metadata": {},
   "outputs": [
    {
     "name": "stdout",
     "output_type": "stream",
     "text": [
      "Beryllium\n",
      "Nitrogen\n"
     ]
    }
   ],
   "source": [
    "print(elements[3])\n",
    "print(elements[-4])"
   ]
  },
  {
   "cell_type": "markdown",
   "id": "ac577a23",
   "metadata": {},
   "source": [
    "## 4. Exercise 4 (How many ones)"
   ]
  },
  {
   "cell_type": "code",
   "execution_count": 9,
   "id": "9c6ddb92",
   "metadata": {},
   "outputs": [],
   "source": [
    "numbers=[45, 60, 1, 30, 96, 1, 96, 57, 16, 1,\n",
    "        99, 62, 86, 43, 42, 60, 59, 1, 1, 35,\n",
    "        83, 47, 34, 28, 68, 23, 22, 92, 1, 79,\n",
    "        1, 29, 94, 72, 46, 47, 1, 74, 32, 20,\n",
    "        8, 37, 35, 1, 89, 29, 86, 19, 43, 61] "
   ]
  },
  {
   "cell_type": "code",
   "execution_count": 12,
   "id": "560e5c44",
   "metadata": {},
   "outputs": [],
   "source": [
    "import numpy as np"
   ]
  },
  {
   "cell_type": "code",
   "execution_count": 13,
   "id": "58981ecd",
   "metadata": {},
   "outputs": [],
   "source": [
    "np_array = np.array(numbers)"
   ]
  },
  {
   "cell_type": "code",
   "execution_count": 22,
   "id": "6739354d",
   "metadata": {},
   "outputs": [
    {
     "data": {
      "text/plain": [
       "np.int64(9)"
      ]
     },
     "execution_count": 22,
     "metadata": {},
     "output_type": "execute_result"
    }
   ],
   "source": [
    "sum(np_array == 1)"
   ]
  },
  {
   "cell_type": "markdown",
   "id": "8d3b8cc8",
   "metadata": {},
   "source": [
    "## 5. Exercise 5 (Statistics)"
   ]
  },
  {
   "cell_type": "code",
   "execution_count": 23,
   "id": "66860858",
   "metadata": {},
   "outputs": [],
   "source": [
    "x_1 = [1, 4, 9, 16, 25, 36, 49, 64, 81, 100]\n",
    "x_2 = [1, 8, 27, 64, 125, 216, 343, 512, 729, 1000]"
   ]
  },
  {
   "cell_type": "code",
   "execution_count": 25,
   "id": "cdbd477e",
   "metadata": {},
   "outputs": [],
   "source": [
    "x1_array = np.array(x_1)\n",
    "x2_array = np.array(x_2)"
   ]
  },
  {
   "cell_type": "code",
   "execution_count": 30,
   "id": "afe93b5a",
   "metadata": {},
   "outputs": [
    {
     "data": {
      "text/plain": [
       "np.float64(38.5)"
      ]
     },
     "execution_count": 30,
     "metadata": {},
     "output_type": "execute_result"
    }
   ],
   "source": [
    "np.mean(x1_array)"
   ]
  },
  {
   "cell_type": "code",
   "execution_count": 31,
   "id": "e5b00d23",
   "metadata": {},
   "outputs": [
    {
     "data": {
      "text/plain": [
       "np.float64(302.5)"
      ]
     },
     "execution_count": 31,
     "metadata": {},
     "output_type": "execute_result"
    }
   ],
   "source": [
    "np.mean(x2_array)"
   ]
  },
  {
   "cell_type": "code",
   "execution_count": 32,
   "id": "92a5bc9c",
   "metadata": {},
   "outputs": [
    {
     "data": {
      "text/plain": [
       "np.float64(32.41990129534635)"
      ]
     },
     "execution_count": 32,
     "metadata": {},
     "output_type": "execute_result"
    }
   ],
   "source": [
    "np.std(x1_array)"
   ]
  },
  {
   "cell_type": "code",
   "execution_count": 33,
   "id": "658947e1",
   "metadata": {},
   "outputs": [
    {
     "data": {
      "text/plain": [
       "np.float64(326.0893282522444)"
      ]
     },
     "execution_count": 33,
     "metadata": {},
     "output_type": "execute_result"
    }
   ],
   "source": [
    "np.std(x2_array)"
   ]
  },
  {
   "cell_type": "code",
   "execution_count": 36,
   "id": "db383e8e",
   "metadata": {},
   "outputs": [
    {
     "data": {
      "text/plain": [
       "np.float64(-37.5)"
      ]
     },
     "execution_count": 36,
     "metadata": {},
     "output_type": "execute_result"
    }
   ],
   "source": [
    "x1_array[0]-np.mean(x1_array)"
   ]
  },
  {
   "cell_type": "code",
   "execution_count": 37,
   "id": "e8548c5f",
   "metadata": {},
   "outputs": [
    {
     "data": {
      "text/plain": [
       "array([-37.5, -34.5, -29.5, -22.5, -13.5,  -2.5,  10.5,  25.5,  42.5,\n",
       "        61.5])"
      ]
     },
     "execution_count": 37,
     "metadata": {},
     "output_type": "execute_result"
    }
   ],
   "source": [
    "x1_array - np.mean(x1_array)"
   ]
  },
  {
   "cell_type": "code",
   "execution_count": 38,
   "id": "e8e82e62",
   "metadata": {},
   "outputs": [
    {
     "data": {
      "text/plain": [
       "array([11306.25, 10160.25,  8127.25,  5366.25,  2396.25,   216.25,\n",
       "         425.25,  5342.25, 18126.25, 42896.25])"
      ]
     },
     "execution_count": 38,
     "metadata": {},
     "output_type": "execute_result"
    }
   ],
   "source": [
    "(x1_array - np.mean(x1_array))*(x2_array - np.mean(x2_array))"
   ]
  },
  {
   "cell_type": "code",
   "execution_count": null,
   "id": "58b8ebda",
   "metadata": {},
   "outputs": [
    {
     "data": {
      "text/plain": [
       "np.float64(104362.5)"
      ]
     },
     "execution_count": 50,
     "metadata": {},
     "output_type": "execute_result"
    }
   ],
   "source": [
    "sum((x1_array - np.mean(x1_array)) * (x2_array - np.mean(x2_array)))"
   ]
  },
  {
   "cell_type": "code",
   "execution_count": 54,
   "id": "206549e2",
   "metadata": {},
   "outputs": [
    {
     "data": {
      "text/plain": [
       "np.float64(11176261346.25)"
      ]
     },
     "execution_count": 54,
     "metadata": {},
     "output_type": "execute_result"
    }
   ],
   "source": [
    "sum((x1_array - np.mean(x1_array))**2) * sum((x2_array - np.mean(x2_array))**2)"
   ]
  },
  {
   "cell_type": "code",
   "execution_count": 55,
   "id": "087babda",
   "metadata": {},
   "outputs": [
    {
     "data": {
      "text/plain": [
       "np.float64(105717.8383540356)"
      ]
     },
     "execution_count": 55,
     "metadata": {},
     "output_type": "execute_result"
    }
   ],
   "source": [
    "np.sqrt(sum((x1_array - np.mean(x1_array))**2) * sum((x2_array - np.mean(x2_array))**2))"
   ]
  },
  {
   "cell_type": "code",
   "execution_count": null,
   "id": "0796e4a7",
   "metadata": {},
   "outputs": [
    {
     "data": {
      "text/plain": [
       "np.float64(0.9871796626270701)"
      ]
     },
     "execution_count": 57,
     "metadata": {},
     "output_type": "execute_result"
    }
   ],
   "source": [
    "sum((x1_array - np.mean(x1_array)) * (x2_array - np.mean(x2_array))) / np.sqrt(sum((x1_array - np.mean(x1_array))**2) * sum((x2_array - np.mean(x2_array))**2)) # Pearson Correlation Coeff. Calculation"
   ]
  },
  {
   "cell_type": "code",
   "execution_count": null,
   "id": "d6714dfe",
   "metadata": {},
   "outputs": [
    {
     "data": {
      "text/plain": [
       "array([[1.        , 0.98717966],\n",
       "       [0.98717966, 1.        ]])"
      ]
     },
     "execution_count": 61,
     "metadata": {},
     "output_type": "execute_result"
    }
   ],
   "source": [
    "np.corrcoef(x1_array, x2_array) # calculating r using np.corrcoef"
   ]
  },
  {
   "cell_type": "markdown",
   "id": "860f9d53",
   "metadata": {},
   "source": [
    "Verified that both the manual formulation and np.corrcoef returned the same value of r. Yay"
   ]
  }
 ],
 "metadata": {
  "kernelspec": {
   "display_name": "base",
   "language": "python",
   "name": "python3"
  },
  "language_info": {
   "codemirror_mode": {
    "name": "ipython",
    "version": 3
   },
   "file_extension": ".py",
   "mimetype": "text/x-python",
   "name": "python",
   "nbconvert_exporter": "python",
   "pygments_lexer": "ipython3",
   "version": "3.13.5"
  },
  "toc": {
   "base_numbering": 1,
   "nav_menu": {},
   "number_sections": true,
   "sideBar": true,
   "skip_h1_title": false,
   "title_cell": "Table of Contents",
   "title_sidebar": "Contents",
   "toc_cell": false,
   "toc_position": {},
   "toc_section_display": true,
   "toc_window_display": false
  }
 },
 "nbformat": 4,
 "nbformat_minor": 5
}
