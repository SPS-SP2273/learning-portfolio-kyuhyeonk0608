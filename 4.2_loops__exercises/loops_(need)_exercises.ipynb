{
 "cells": [
  {
   "attachments": {},
   "cell_type": "markdown",
   "id": "123456",
   "metadata": {},
   "source": [
    "<div style=\"text-align:left;font-size:2em\"><span style=\"font-weight:bolder;font-size:1.25em\">SP2273 | Learning Portfolio</span><br><br><span style=\"font-weight:bold;color:darkred\">Loops (Need) Exercises</span></div>"
   ]
  },
  {
   "cell_type": "code",
   "execution_count": 3,
   "id": "8e8dd5a6",
   "metadata": {},
   "outputs": [],
   "source": [
    "import numpy as np"
   ]
  },
  {
   "cell_type": "code",
   "execution_count": 15,
   "id": "38801e0d",
   "metadata": {},
   "outputs": [],
   "source": [
    "temperatures_celsius = [\n",
    "    0, 5, 10, 15, 20, 25,\n",
    "    30, 35, 40, 45, 50\n",
    "]"
   ]
  },
  {
   "cell_type": "code",
   "execution_count": 26,
   "id": "2ac76d3e",
   "metadata": {},
   "outputs": [
    {
     "name": "stdout",
     "output_type": "stream",
     "text": [
      "0: 0 C is 32.0\n",
      "1: 0 C is 41.0\n",
      "2: 0 C is 50.0\n",
      "3: 0 C is 59.0\n",
      "4: 0 C is 68.0\n",
      "5: 0 C is 77.0\n",
      "6: 0 C is 86.0\n",
      "7: 0 C is 95.0\n",
      "8: 0 C is 104.0\n",
      "9: 0 C is 113.0\n",
      "10: 0 C is 122.0\n",
      "0: 5 C is 32.0\n",
      "1: 5 C is 41.0\n",
      "2: 5 C is 50.0\n",
      "3: 5 C is 59.0\n",
      "4: 5 C is 68.0\n",
      "5: 5 C is 77.0\n",
      "6: 5 C is 86.0\n",
      "7: 5 C is 95.0\n",
      "8: 5 C is 104.0\n",
      "9: 5 C is 113.0\n",
      "10: 5 C is 122.0\n",
      "0: 10 C is 32.0\n",
      "1: 10 C is 41.0\n",
      "2: 10 C is 50.0\n",
      "3: 10 C is 59.0\n",
      "4: 10 C is 68.0\n",
      "5: 10 C is 77.0\n",
      "6: 10 C is 86.0\n",
      "7: 10 C is 95.0\n",
      "8: 10 C is 104.0\n",
      "9: 10 C is 113.0\n",
      "10: 10 C is 122.0\n",
      "0: 15 C is 32.0\n",
      "1: 15 C is 41.0\n",
      "2: 15 C is 50.0\n",
      "3: 15 C is 59.0\n",
      "4: 15 C is 68.0\n",
      "5: 15 C is 77.0\n",
      "6: 15 C is 86.0\n",
      "7: 15 C is 95.0\n",
      "8: 15 C is 104.0\n",
      "9: 15 C is 113.0\n",
      "10: 15 C is 122.0\n",
      "0: 20 C is 32.0\n",
      "1: 20 C is 41.0\n",
      "2: 20 C is 50.0\n",
      "3: 20 C is 59.0\n",
      "4: 20 C is 68.0\n",
      "5: 20 C is 77.0\n",
      "6: 20 C is 86.0\n",
      "7: 20 C is 95.0\n",
      "8: 20 C is 104.0\n",
      "9: 20 C is 113.0\n",
      "10: 20 C is 122.0\n",
      "0: 25 C is 32.0\n",
      "1: 25 C is 41.0\n",
      "2: 25 C is 50.0\n",
      "3: 25 C is 59.0\n",
      "4: 25 C is 68.0\n",
      "5: 25 C is 77.0\n",
      "6: 25 C is 86.0\n",
      "7: 25 C is 95.0\n",
      "8: 25 C is 104.0\n",
      "9: 25 C is 113.0\n",
      "10: 25 C is 122.0\n",
      "0: 30 C is 32.0\n",
      "1: 30 C is 41.0\n",
      "2: 30 C is 50.0\n",
      "3: 30 C is 59.0\n",
      "4: 30 C is 68.0\n",
      "5: 30 C is 77.0\n",
      "6: 30 C is 86.0\n",
      "7: 30 C is 95.0\n",
      "8: 30 C is 104.0\n",
      "9: 30 C is 113.0\n",
      "10: 30 C is 122.0\n",
      "0: 35 C is 32.0\n",
      "1: 35 C is 41.0\n",
      "2: 35 C is 50.0\n",
      "3: 35 C is 59.0\n",
      "4: 35 C is 68.0\n",
      "5: 35 C is 77.0\n",
      "6: 35 C is 86.0\n",
      "7: 35 C is 95.0\n",
      "8: 35 C is 104.0\n",
      "9: 35 C is 113.0\n",
      "10: 35 C is 122.0\n",
      "0: 40 C is 32.0\n",
      "1: 40 C is 41.0\n",
      "2: 40 C is 50.0\n",
      "3: 40 C is 59.0\n",
      "4: 40 C is 68.0\n",
      "5: 40 C is 77.0\n",
      "6: 40 C is 86.0\n",
      "7: 40 C is 95.0\n",
      "8: 40 C is 104.0\n",
      "9: 40 C is 113.0\n",
      "10: 40 C is 122.0\n",
      "0: 45 C is 32.0\n",
      "1: 45 C is 41.0\n",
      "2: 45 C is 50.0\n",
      "3: 45 C is 59.0\n",
      "4: 45 C is 68.0\n",
      "5: 45 C is 77.0\n",
      "6: 45 C is 86.0\n",
      "7: 45 C is 95.0\n",
      "8: 45 C is 104.0\n",
      "9: 45 C is 113.0\n",
      "10: 45 C is 122.0\n",
      "0: 50 C is 32.0\n",
      "1: 50 C is 41.0\n",
      "2: 50 C is 50.0\n",
      "3: 50 C is 59.0\n",
      "4: 50 C is 68.0\n",
      "5: 50 C is 77.0\n",
      "6: 50 C is 86.0\n",
      "7: 50 C is 95.0\n",
      "8: 50 C is 104.0\n",
      "9: 50 C is 113.0\n",
      "10: 50 C is 122.0\n"
     ]
    }
   ],
   "source": [
    "temperatures_fahrenheit = [(c * 9/5) + 32 for c in temperatures_celsius]    # Failed Attempt\n",
    "for count, ctemp in enumerate(temperatures_celsius):\n",
    "    for count, ftemp in enumerate(temperatures_fahrenheit):\n",
    "        print(f'{count}: {ctemp} C is {ftemp}')"
   ]
  },
  {
   "cell_type": "code",
   "execution_count": null,
   "id": "cb14067f",
   "metadata": {},
   "outputs": [
    {
     "ename": "TypeError",
     "evalue": "object of type 'float' has no len()",
     "output_type": "error",
     "traceback": [
      "\u001b[31m---------------------------------------------------------------------------\u001b[39m",
      "\u001b[31mTypeError\u001b[39m                                 Traceback (most recent call last)",
      "\u001b[36mCell\u001b[39m\u001b[36m \u001b[39m\u001b[32mIn[28]\u001b[39m\u001b[32m, line 1\u001b[39m\n\u001b[32m----> \u001b[39m\u001b[32m1\u001b[39m \u001b[38;5;28;01mfor\u001b[39;00m i \u001b[38;5;129;01min\u001b[39;00m \u001b[38;5;28mrange\u001b[39m(\u001b[38;5;28;43mlen\u001b[39;49m\u001b[43m(\u001b[49m\u001b[43mtemperatures_celsius\u001b[49m\u001b[43m)\u001b[49m):  \u001b[38;5;66;03m# Why tf is this not working\u001b[39;00m\n\u001b[32m      2\u001b[39m     temperatures_celsius = temperatures_fahrenheit[i]\n\u001b[32m      3\u001b[39m     temperatures_fahrenheit = temperatures_celsius[i]\n",
      "\u001b[31mTypeError\u001b[39m: object of type 'float' has no len()"
     ]
    }
   ],
   "source": [
    "for i in range(len(temperatures_celsius)):  # Why tf is this not working\n",
    "    temperatures_celsius = temperatures_fahrenheit[i]\n",
    "    temperatures_fahrenheit = temperatures_celsius[i]\n",
    "    print(f\"{temperatures_celsius}, {temperatures_fahrenheit}\")"
   ]
  },
  {
   "cell_type": "code",
   "execution_count": 36,
   "id": "ac090b71",
   "metadata": {},
   "outputs": [
    {
     "name": "stdout",
     "output_type": "stream",
     "text": [
      "0, 32.0\n",
      "5, 41.0\n",
      "10, 50.0\n",
      "15, 59.0\n",
      "20, 68.0\n",
      "25, 77.0\n",
      "30, 86.0\n",
      "35, 95.0\n",
      "40, 104.0\n",
      "45, 113.0\n",
      "50, 122.0\n"
     ]
    }
   ],
   "source": [
    "for i in range(len(temperatures_celsius)):  #Yay it worked\n",
    "    c = temperatures_celsius[i]\n",
    "    f = temperatures_fahrenheit[i]\n",
    "    print(f\"{c}, {f}\")"
   ]
  },
  {
   "cell_type": "markdown",
   "id": "9683dfd1",
   "metadata": {},
   "source": [
    "## 2. Exercise 2 (Multiplication Table)"
   ]
  },
  {
   "cell_type": "code",
   "execution_count": 37,
   "id": "bf1b96d6",
   "metadata": {},
   "outputs": [
    {
     "name": "stdout",
     "output_type": "stream",
     "text": [
      "A1\tA2\tA3\t\n",
      "\n",
      "B1\tB2\tB3\t\n",
      "\n",
      "C1\tC2\tC3\t\n",
      "\n"
     ]
    }
   ],
   "source": [
    "for letter in ['A', 'B', 'C']:\n",
    "    for number in [1, 2, 3]:\n",
    "        print(f'{letter}{number}', end='\\t')\n",
    "    print('\\n')"
   ]
  },
  {
   "cell_type": "code",
   "execution_count": 41,
   "id": "3d944293",
   "metadata": {},
   "outputs": [
    {
     "ename": "TypeError",
     "evalue": "unsupported operand type(s) for *: 'set' and 'set'",
     "output_type": "error",
     "traceback": [
      "\u001b[31m---------------------------------------------------------------------------\u001b[39m",
      "\u001b[31mTypeError\u001b[39m                                 Traceback (most recent call last)",
      "\u001b[36mCell\u001b[39m\u001b[36m \u001b[39m\u001b[32mIn[41]\u001b[39m\u001b[32m, line 3\u001b[39m\n\u001b[32m      1\u001b[39m \u001b[38;5;28;01mfor\u001b[39;00m row \u001b[38;5;129;01min\u001b[39;00m [\u001b[33m'\u001b[39m\u001b[33m1\u001b[39m\u001b[33m'\u001b[39m, \u001b[33m'\u001b[39m\u001b[33m2\u001b[39m\u001b[33m'\u001b[39m, \u001b[33m'\u001b[39m\u001b[33m3\u001b[39m\u001b[33m'\u001b[39m]:\n\u001b[32m      2\u001b[39m     \u001b[38;5;28;01mfor\u001b[39;00m column \u001b[38;5;129;01min\u001b[39;00m [\u001b[32m1\u001b[39m,\u001b[32m2\u001b[39m, \u001b[32m3\u001b[39m]:\n\u001b[32m----> \u001b[39m\u001b[32m3\u001b[39m         value = \u001b[43m{\u001b[49m\u001b[43mrow\u001b[49m\u001b[43m}\u001b[49m\u001b[43m*\u001b[49m\u001b[43m{\u001b[49m\u001b[43mcolumn\u001b[49m\u001b[43m}\u001b[49m\n\u001b[32m      4\u001b[39m         \u001b[38;5;28mprint\u001b[39m(value, end=\u001b[33m'\u001b[39m\u001b[38;5;130;01m\\t\u001b[39;00m\u001b[33m'\u001b[39m)\n\u001b[32m      5\u001b[39m     \u001b[38;5;28mprint\u001b[39m(\u001b[33m'\u001b[39m\u001b[38;5;130;01m\\n\u001b[39;00m\u001b[33m'\u001b[39m)\n",
      "\u001b[31mTypeError\u001b[39m: unsupported operand type(s) for *: 'set' and 'set'"
     ]
    }
   ],
   "source": [
    "for row in ['1', '2', '3']:\n",
    "    for column in [1,2, 3]:\n",
    "        value = {row}*{column}\n",
    "        print(value, end='\\t')\n",
    "    print('\\n')"
   ]
  },
  {
   "cell_type": "code",
   "execution_count": 46,
   "id": "02d69626",
   "metadata": {},
   "outputs": [
    {
     "name": "stdout",
     "output_type": "stream",
     "text": [
      "1 : 1   2   3   4   5   \n",
      "2 : 2   4   6   8   10  \n",
      "3 : 3   6   9   12  15  \n",
      "4 : 4   8   12  16  20  \n",
      "5 : 5   10  15  20  25  \n"
     ]
    }
   ],
   "source": [
    "for r in range(1, 6):               # rows\n",
    "    print(f\"{r} :\", end=\" \")        # row header\n",
    "    for c in range(1, 6):           # columns\n",
    "        print(f\"{r*c:<4}\", end=\"\")  # left-aligned, width 4\n",
    "    print()                         # new line after each row\n"
   ]
  },
  {
   "cell_type": "markdown",
   "id": "65a7406c",
   "metadata": {},
   "source": [
    "## 3. Exercise 3 (Simulating a Coin Flip Experiment)"
   ]
  },
  {
   "cell_type": "code",
   "execution_count": 48,
   "id": "3eaca543",
   "metadata": {},
   "outputs": [
    {
     "data": {
      "text/plain": [
       "array([0.21773019, 0.85517452, 0.50303462, 0.83668449, 0.45671805,\n",
       "       0.94189495, 0.51023951, 0.94006421, 0.77490522, 0.61688873])"
      ]
     },
     "execution_count": 48,
     "metadata": {},
     "output_type": "execute_result"
    }
   ],
   "source": [
    "np.random.rand(10)"
   ]
  },
  {
   "cell_type": "code",
   "execution_count": null,
   "id": "3d8efbe1",
   "metadata": {},
   "outputs": [
    {
     "ename": "ValueError",
     "evalue": "The truth value of an array with more than one element is ambiguous. Use a.any() or a.all()",
     "output_type": "error",
     "traceback": [
      "\u001b[31m---------------------------------------------------------------------------\u001b[39m",
      "\u001b[31mValueError\u001b[39m                                Traceback (most recent call last)",
      "\u001b[36mCell\u001b[39m\u001b[36m \u001b[39m\u001b[32mIn[76]\u001b[39m\u001b[32m, line 3\u001b[39m\n\u001b[32m      1\u001b[39m \u001b[38;5;28;01mfor\u001b[39;00m i \u001b[38;5;129;01min\u001b[39;00m \u001b[38;5;28mrange\u001b[39m(\u001b[32m1\u001b[39m, \u001b[32m9\u001b[39m):\n\u001b[32m      2\u001b[39m     x = np.random.rand(\u001b[32m10\u001b[39m)\n\u001b[32m----> \u001b[39m\u001b[32m3\u001b[39m     \u001b[38;5;28;01mif\u001b[39;00m \u001b[43mx\u001b[49m\u001b[43m \u001b[49m\u001b[43m<\u001b[49m\u001b[43m \u001b[49m\u001b[32;43m0.5\u001b[39;49m:\n\u001b[32m      4\u001b[39m         flip = \u001b[33m\"\u001b[39m\u001b[33mHeads\u001b[39m\u001b[33m\"\u001b[39m\n\u001b[32m      5\u001b[39m     \u001b[38;5;28;01melse\u001b[39;00m:\n",
      "\u001b[31mValueError\u001b[39m: The truth value of an array with more than one element is ambiguous. Use a.any() or a.all()"
     ]
    }
   ],
   "source": [
    "for i in range(1, 9):           #Failed Attempt\n",
    "    x = np.random.rand(10)\n",
    "    if x < 0.5:\n",
    "        flip = \"Heads\"\n",
    "    else:\n",
    "        flip = \"Tails\"\n",
    "    print(f\"Experiment {i}: {flip}\")"
   ]
  },
  {
   "cell_type": "code",
   "execution_count": 113,
   "id": "cb1f8f30",
   "metadata": {},
   "outputs": [
    {
     "name": "stdout",
     "output_type": "stream",
     "text": [
      "Experiment 1: No. of Heads = 5\n",
      "Experiment 2: No. of Heads = 4\n",
      "Experiment 3: No. of Heads = 3\n",
      "Experiment 4: No. of Heads = 3\n",
      "Experiment 5: No. of Heads = 4\n",
      "Experiment 6: No. of Heads = 3\n",
      "Experiment 7: No. of Heads = 1\n",
      "Experiment 8: No. of Heads = 5\n",
      "Experiment 9: No. of Heads = 5\n",
      "Experiment 10: No. of Heads = 6\n"
     ]
    }
   ],
   "source": [
    "for i in range(1, 11):                          #Yay it worked\n",
    "    values = np.random.rand(10)\n",
    "    truefalsearray = np.array(values > 0.5)\n",
    "    heads = sum(truefalsearray)\n",
    "    print(f'Experiment {i}: No. of Heads = {heads}')\n",
    "\n"
   ]
  },
  {
   "cell_type": "markdown",
   "id": "ab923959",
   "metadata": {},
   "source": [
    "Complete!"
   ]
  }
 ],
 "metadata": {
  "kernelspec": {
   "display_name": "base",
   "language": "python",
   "name": "python3"
  },
  "language_info": {
   "codemirror_mode": {
    "name": "ipython",
    "version": 3
   },
   "file_extension": ".py",
   "mimetype": "text/x-python",
   "name": "python",
   "nbconvert_exporter": "python",
   "pygments_lexer": "ipython3",
   "version": "3.13.5"
  },
  "toc": {
   "base_numbering": 1,
   "nav_menu": {},
   "number_sections": true,
   "sideBar": true,
   "skip_h1_title": false,
   "title_cell": "Table of Contents",
   "title_sidebar": "Contents",
   "toc_cell": false,
   "toc_position": {},
   "toc_section_display": true,
   "toc_window_display": false
  }
 },
 "nbformat": 4,
 "nbformat_minor": 5
}
