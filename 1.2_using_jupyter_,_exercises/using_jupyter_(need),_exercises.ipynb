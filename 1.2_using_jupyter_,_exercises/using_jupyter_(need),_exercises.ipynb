{
 "cells": [
  {
   "attachments": {},
   "cell_type": "markdown",
   "id": "123456",
   "metadata": {},
   "source": [
    "<div style=\"text-align:left;font-size:2em\"><span style=\"font-weight:bolder;font-size:1.25em\">SP2273 | Learning Portfolio</span><br><br><span style=\"font-weight:bold;color:darkred\">Using Jupyter (Need), Exercises</span></div>"
   ]
  },
  {
   "attachments": {},
   "cell_type": "markdown",
   "id": "123456",
   "metadata": {},
   "source": [
    "## 1. Quadratic Equations"
   ]
  },
  {
   "attachments": {},
   "cell_type": "markdown",
   "id": "123456",
   "metadata": {},
   "source": [
    "### Introduction"
   ]
  },
  {
   "cell_type": "markdown",
   "id": "02579968",
   "metadata": {},
   "source": []
  },
  {
   "cell_type": "code",
   "execution_count": 16,
   "id": "123456",
   "metadata": {},
   "outputs": [],
   "source": [
    "\n",
    "# Your code here"
   ]
  },
  {
   "cell_type": "markdown",
   "id": "63a3755a",
   "metadata": {},
   "source": [
    "![](https://upload.wikimedia.org/wikipedia/commons/thumb/f/f8/Polynomialdeg2.svg/600px-Polynomialdeg2.svg.png)"
   ]
  },
  {
   "cell_type": "markdown",
   "id": "7a734b30",
   "metadata": {},
   "source": [
    "The general form of a quadratic equation is:"
   ]
  },
  {
   "cell_type": "markdown",
   "id": "b2ea182c",
   "metadata": {},
   "source": [
    "$$\n",
    "{ax^2 + bx + c = 0}\n",
    "$$"
   ]
  },
  {
   "attachments": {},
   "cell_type": "markdown",
   "id": "123456",
   "metadata": {},
   "source": [
    "### Solutions"
   ]
  },
  {
   "cell_type": "markdown",
   "id": "82a89862",
   "metadata": {},
   "source": [
    "Provided $a \\ne b$, we can use an elementary algebraic method called [completing the square](https://en.wikipedia.org/wiki/Completing_the_square) to show that a quadratic equation has the following solution:\n",
    "$$\n",
    "{x = \\dfrac{-b \\pm \\sqrt{b^2-4ac}}{2a}}"
   ]
  },
  {
   "attachments": {},
   "cell_type": "markdown",
   "id": "123456",
   "metadata": {},
   "source": [
    "### Discriminant"
   ]
  },
  {
   "cell_type": "markdown",
   "id": "c3ddf72b",
   "metadata": {},
   "source": [
    "The quantity $\\Delta = b^2 - 4ac$ is called the **discriminant** of the equation and decides the nature of its solutions. The table below shows the various possibilities.\n",
    "|           Discriminant             |          Roots            |\n",
    "| :--------------------------------: | :-----------------------------------------------------------------------------------: |\n",
    "| $\\Delta = b^2 - 4ac = 0$ | A single solution of $-b/(2a)                                                                   |\n",
    "| $\\Delta = b^2 - 4ac > 0$ |  Two distinct solutions                                                                         |\n",
    "| $\\Delta = b^2 - 4ac > 0$ |  No real solutions; both are complex.|"
   ]
  },
  {
   "cell_type": "markdown",
   "id": "d36b8557",
   "metadata": {},
   "source": [
    "## 2. In Your Own Words"
   ]
  },
  {
   "cell_type": "markdown",
   "id": "0c234525",
   "metadata": {},
   "source": [
    "1. What is a Git repository? &#8594; *A collection of the entire history of code, files, folders that we write over tim.*\n",
    "\n",
    "2. Git keeps track of ____the changes____ in the files in our repository.\n",
    "\n",
    "3. What is a commit? &#8594; *The act of merging temporary changes made to code to the source code, thus making an \"edit\".*\n",
    "\n",
    "4. What is a push? &#8594; *The act of syncing a local version of the Git repo to a cloud-based repo such that it can be accessed from another device.*\n",
    "\n",
    "5. What is a pull? &#8594; *The act of porting a version of code from a cloud-based repo to the local Git repo such that it can be accessed from the local device.*\n",
    "\n",
    "6. What is the difference between GitHub and GitHub Desktop?  &#8594; *GitHub is a cloud-based service that hosts sharable Git repositories. GitHub Desktop is an application that allows users to directly manipulate locally stored Git repositories.*"
   ]
  },
  {
   "cell_type": "markdown",
   "id": "b2c86a28",
   "metadata": {},
   "source": [
    "## 3. Statistics"
   ]
  },
  {
   "cell_type": "markdown",
   "id": "32531f72",
   "metadata": {},
   "source": [
    "$$\n",
    "\\mu = \\dfrac{1}{n} \\sum_{i=1}^{n} x_i\n",
    "$$\n",
    "\n",
    "$$\n",
    "\\sigma = \\sqrt{\\dfrac{1}{n} \\sum_{i=1}^{n} {(x_i-\\mu)}^2}\n",
    "$$\n",
    "\n",
    "$$\n",
    "r = \\dfrac{\\sum_{i=1}^{n} (x_i - \\mu_X)(y_i - \\mu_Y)}{\\sqrt{\\sum_{i=1}^{n} (x_i - \\mu_X)^2\\sum_{i=1}^{n} (y_i - \\mu_Y)^2}}\n",
    "$$"
   ]
  },
  {
   "cell_type": "markdown",
   "id": "c43b262f",
   "metadata": {},
   "source": []
  }
 ],
 "metadata": {
  "kernelspec": {
   "display_name": "base",
   "language": "python",
   "name": "python3"
  },
  "language_info": {
   "codemirror_mode": {
    "name": "ipython",
    "version": 3
   },
   "file_extension": ".py",
   "mimetype": "text/x-python",
   "name": "python",
   "nbconvert_exporter": "python",
   "pygments_lexer": "ipython3",
   "version": "3.13.5"
  },
  "toc": {
   "base_numbering": 1,
   "nav_menu": {},
   "number_sections": true,
   "sideBar": true,
   "skip_h1_title": false,
   "title_cell": "Table of Contents",
   "title_sidebar": "Contents",
   "toc_cell": false,
   "toc_position": {},
   "toc_section_display": true,
   "toc_window_display": false
  }
 },
 "nbformat": 4,
 "nbformat_minor": 5
}
